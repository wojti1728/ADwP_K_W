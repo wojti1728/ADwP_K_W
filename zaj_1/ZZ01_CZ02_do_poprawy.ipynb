{
 "cells": [
  {
   "cell_type": "markdown",
   "id": "676a74d0",
   "metadata": {
    "deletable": false,
    "editable": false,
    "nbgrader": {
     "cell_type": "markdown",
     "checksum": "4d87ed846e09cbf1c8eae4e0f16bea9b",
     "grade": false,
     "grade_id": "cell-fcd2666579131b77",
     "locked": true,
     "schema_version": 3,
     "solution": false,
     "task": false
    },
    "tags": []
   },
   "source": [
    "# Analiza danych w języku Python - ćwiczenia laboratoryjne 2022/2023\n",
    "\n",
    "Ten notatnik zalicza się do grupy zestawów zadań, na podstawie których odbywa się zaliczenie ćwiczeń i podlega zwrotowi do oceny w ustalonym na zajęciach terminie.\n",
    "\n",
    "Uwagi i wytyczne ogólne dotyczące uzupełniania i oceny notatnika:\n",
    "- Podczas wykonywania zadań należy korzystać wyłącznie z pakietów zaimportowanych na początku notatnika oraz z pakietów wchodzących w skład standardowej biblioteki Pythona, które można zaimportować samodzielnie we wskazanej komórce notatnika.\n",
    "- Swoje rozwiązania należy wprowadzać wyłącznie w miejce następujących fragmentów kodu:<br/> `# YOUR CODE HERE`<br/> `raise NotImplementedError()`<br/> \n",
    "a odpowiedzi tekstowe w komórkach oznaczonych hasłem:<br/> \n",
    "`YOUR ANSWER HERE`<br/> \n",
    "Nie należy w żaden sposób modyfikować pozostałych fragmentów kodu oraz innych elementów notatnika, w szczególności dodawać lub usuwać komórek oraz zmieniać nazwy pliku.\n",
    "- Jeżeli zestaw zadań wymaga skorzystania z fragmentów kodu opracowanego w ramach wcześniejszych zestawów zadań należy je umieścić we wskazanej komórce notatnika.\n",
    "- Otrzymywane wyniki i odpowiedzi mają być rezultatem wykonania napisanego kodu, odpowiedzi uzupełniane manualnie nie podlegają ocenie.\n",
    "- Zadanie należy wykonać w taki sposób, aby podczas wykonywania kodu nie zostały wyświetlone żadne ostrzeżenia.\n",
    "- Zawarte w notatniku automatyczne testy mają charakter poglądowy. Dotyczą one wybranych aspektów zadań i mają za zadanie wyłapać podstawowe błędy. Przejście wszystkich testów nie oznacza, że zadanie jest wykonane w całości poprawnie i zostanie ocenione na maksymalną liczbę punktów.\n",
    "- Zadania, które powodują wyświetlenie komunikatu o błędzie przerywającym wykonywanie kodu nie podlegają ocenie.\n",
    "\n",
    "Uwagi i wytyczne ogólne dotyczące wizualizacji wyników:\n",
    "- Wszystkie wykresy powinny być wykonane w jednolitym, przejrzystym i czytelnym stylu, posiadać odpowiednio dobrane proporcje i zakresy wartości osi.\n",
    "- Wykresy oraz ich osie powinny mieć nadane tytuły. Jeżeli w obrębie figury znajduje się więcej niż jeden wykres to figura również powinna mieć nadany tytuł. \n",
    "- Figury powinny mieć ustawione białe tło, tak, aby niezależnie od ustawień notatnika wszystkie elementy wykresów były dobrze widoczne (domyślnie tło jest przeźroczyste co może powodować problemy w notatnikach z ustawionym ciemnym tłem).\n",
    "- Rozmiar poziomy figur nie powinien przekraczać 20 cali.\n",
    "\n",
    "Przed odesłaniem zestawu zadań do oceny proszę uzupełnić komórkę z danymi autorów rozwiązania (`NAME` - nazwa zespołu, `COLLABORATORS` - imiona, nazwiska i numery indeksów członków zespołu) oraz upewnić się, że notatnik działa zgodnie z oczekiwaniami. W tym celu należy skorzystać z opcji **Restart Kernel and Run All Cells...** dostępnej na górnej belce notatnika pod symbolem $\\blacktriangleright\\blacktriangleright$."
   ]
  },
  {
   "cell_type": "code",
   "execution_count": null,
   "id": "c6efea33",
   "metadata": {},
   "outputs": [],
   "source": [
    "NAME = \"\"\n",
    "COLLABORATORS = \"\""
   ]
  },
  {
   "cell_type": "markdown",
   "id": "f45248cf",
   "metadata": {
    "deletable": false,
    "editable": false,
    "nbgrader": {
     "cell_type": "markdown",
     "checksum": "eddc8826810e4a6f7bf68319da334bd9",
     "grade": false,
     "grade_id": "cell-109006d425e5cf83",
     "locked": true,
     "schema_version": 3,
     "solution": false,
     "task": false
    },
    "tags": []
   },
   "source": [
    "---"
   ]
  },
  {
   "cell_type": "markdown",
   "id": "3dc8b5f1-8b22-4781-876f-27826679533d",
   "metadata": {
    "deletable": false,
    "editable": false,
    "nbgrader": {
     "cell_type": "markdown",
     "checksum": "84038a391f18be7a03fd54d7d7a40aeb",
     "grade": false,
     "grade_id": "cell-a12f05a1065ccf65",
     "locked": true,
     "schema_version": 3,
     "solution": false,
     "task": false
    },
    "tags": []
   },
   "source": [
    "## Zestaw zadań 1: Elementy statystyki opisowej"
   ]
  },
  {
   "cell_type": "code",
   "execution_count": 1,
   "id": "7f9968ab-aec5-4893-b0ad-34121d66004f",
   "metadata": {
    "deletable": false,
    "editable": false,
    "nbgrader": {
     "cell_type": "code",
     "checksum": "d6674a728779d571c7935a6e29b9a2a6",
     "grade": false,
     "grade_id": "cell-d7c9c710c5b409e6",
     "locked": true,
     "schema_version": 3,
     "solution": false,
     "task": false
    },
    "tags": []
   },
   "outputs": [],
   "source": [
    "import numpy as np\n",
    "import pandas as pd\n",
    "import scipy as sp\n",
    "import matplotlib as mpl\n",
    "import matplotlib.pyplot as plt\n",
    "import seaborn as sns"
   ]
  },
  {
   "cell_type": "code",
   "execution_count": null,
   "id": "2876bbec-f433-4b3e-8187-0184b66bcbe9",
   "metadata": {},
   "outputs": [],
   "source": [
    "# Miejsce do importu pakietów wchodzących w skład standardowej biblioteki Pythona oraz ustawienie opcji wykorzystywanych pakietów"
   ]
  },
  {
   "cell_type": "markdown",
   "id": "73cb2852-79f3-4f76-9303-a091a9be7623",
   "metadata": {
    "deletable": false,
    "editable": false,
    "nbgrader": {
     "cell_type": "markdown",
     "checksum": "2a75c36c0aa35f62ca15e7fd34e65651",
     "grade": false,
     "grade_id": "cell-7e0c91af7d9408af",
     "locked": true,
     "schema_version": 3,
     "solution": false,
     "task": false
    },
    "tags": []
   },
   "source": [
    "### Wczytanie danych\n",
    "Wczytaj dane z przygotowanego wcześniej pliku eruptions_data.csv do tablicy `eruptions_data` w taki sposób, aby kolumna Eruption Number stanowiła indeks tablicy.\n",
    "\n",
    "Wyświetl przygotowaną tablicę."
   ]
  },
  {
   "cell_type": "code",
   "execution_count": 2,
   "id": "bb86cffa-4841-45db-b09e-06fb353a4250",
   "metadata": {
    "deletable": false,
    "nbgrader": {
     "cell_type": "code",
     "checksum": "68bec47ead37b0063f7536f252c32c14",
     "grade": true,
     "grade_id": "cell-184ec13f50fb3bfe",
     "locked": false,
     "points": 0,
     "schema_version": 3,
     "solution": true,
     "task": false
    },
    "tags": []
   },
   "outputs": [
    {
     "data": {
      "text/html": [
       "<div>\n",
       "<style scoped>\n",
       "    .dataframe tbody tr th:only-of-type {\n",
       "        vertical-align: middle;\n",
       "    }\n",
       "\n",
       "    .dataframe tbody tr th {\n",
       "        vertical-align: top;\n",
       "    }\n",
       "\n",
       "    .dataframe thead th {\n",
       "        text-align: right;\n",
       "    }\n",
       "</style>\n",
       "<table border=\"1\" class=\"dataframe\">\n",
       "  <thead>\n",
       "    <tr style=\"text-align: right;\">\n",
       "      <th></th>\n",
       "      <th>Volcano Name</th>\n",
       "      <th>Eruption Category</th>\n",
       "      <th>Evidence Type</th>\n",
       "      <th>Evidence Method</th>\n",
       "      <th>VEI</th>\n",
       "      <th>Start Year</th>\n",
       "      <th>Start Month</th>\n",
       "      <th>Start Day</th>\n",
       "      <th>End Year</th>\n",
       "      <th>End Month</th>\n",
       "      <th>End Day</th>\n",
       "    </tr>\n",
       "    <tr>\n",
       "      <th>Eruption Number</th>\n",
       "      <th></th>\n",
       "      <th></th>\n",
       "      <th></th>\n",
       "      <th></th>\n",
       "      <th></th>\n",
       "      <th></th>\n",
       "      <th></th>\n",
       "      <th></th>\n",
       "      <th></th>\n",
       "      <th></th>\n",
       "      <th></th>\n",
       "    </tr>\n",
       "  </thead>\n",
       "  <tbody>\n",
       "    <tr>\n",
       "      <th>22486</th>\n",
       "      <td>Cotopaxi</td>\n",
       "      <td>Confirmed</td>\n",
       "      <td>Observations</td>\n",
       "      <td>Reported</td>\n",
       "      <td>2</td>\n",
       "      <td>2022</td>\n",
       "      <td>10.0</td>\n",
       "      <td>21.0</td>\n",
       "      <td>2022.0</td>\n",
       "      <td>12.0</td>\n",
       "      <td>19.0</td>\n",
       "    </tr>\n",
       "    <tr>\n",
       "      <th>22481</th>\n",
       "      <td>Taal</td>\n",
       "      <td>Confirmed</td>\n",
       "      <td>Observations</td>\n",
       "      <td>Reported</td>\n",
       "      <td>1</td>\n",
       "      <td>2022</td>\n",
       "      <td>10.0</td>\n",
       "      <td>5.0</td>\n",
       "      <td>2022.0</td>\n",
       "      <td>10.0</td>\n",
       "      <td>29.0</td>\n",
       "    </tr>\n",
       "    <tr>\n",
       "      <th>22458</th>\n",
       "      <td>Turrialba</td>\n",
       "      <td>Confirmed</td>\n",
       "      <td>Observations</td>\n",
       "      <td>Reported</td>\n",
       "      <td>1</td>\n",
       "      <td>2022</td>\n",
       "      <td>7.0</td>\n",
       "      <td>17.0</td>\n",
       "      <td>2022.0</td>\n",
       "      <td>7.0</td>\n",
       "      <td>17.0</td>\n",
       "    </tr>\n",
       "    <tr>\n",
       "      <th>22453</th>\n",
       "      <td>Ulawun</td>\n",
       "      <td>Confirmed</td>\n",
       "      <td>Observations</td>\n",
       "      <td>Reported</td>\n",
       "      <td>2</td>\n",
       "      <td>2022</td>\n",
       "      <td>6.0</td>\n",
       "      <td>2.0</td>\n",
       "      <td>2022.0</td>\n",
       "      <td>6.0</td>\n",
       "      <td>2.0</td>\n",
       "    </tr>\n",
       "    <tr>\n",
       "      <th>22454</th>\n",
       "      <td>Raung</td>\n",
       "      <td>Confirmed</td>\n",
       "      <td>Observations</td>\n",
       "      <td>Satellite (infrared)</td>\n",
       "      <td>2</td>\n",
       "      <td>2022</td>\n",
       "      <td>5.0</td>\n",
       "      <td>14.0</td>\n",
       "      <td>2022.0</td>\n",
       "      <td>9.0</td>\n",
       "      <td>27.0</td>\n",
       "    </tr>\n",
       "  </tbody>\n",
       "</table>\n",
       "</div>"
      ],
      "text/plain": [
       "                Volcano Name Eruption Category Evidence Type  \\\n",
       "Eruption Number                                                \n",
       "22486               Cotopaxi         Confirmed  Observations   \n",
       "22481                   Taal         Confirmed  Observations   \n",
       "22458              Turrialba         Confirmed  Observations   \n",
       "22453                 Ulawun         Confirmed  Observations   \n",
       "22454                  Raung         Confirmed  Observations   \n",
       "\n",
       "                      Evidence Method  VEI  Start Year  Start Month  \\\n",
       "Eruption Number                                                       \n",
       "22486                        Reported    2        2022         10.0   \n",
       "22481                        Reported    1        2022         10.0   \n",
       "22458                        Reported    1        2022          7.0   \n",
       "22453                        Reported    2        2022          6.0   \n",
       "22454            Satellite (infrared)    2        2022          5.0   \n",
       "\n",
       "                 Start Day  End Year  End Month  End Day  \n",
       "Eruption Number                                           \n",
       "22486                 21.0    2022.0       12.0     19.0  \n",
       "22481                  5.0    2022.0       10.0     29.0  \n",
       "22458                 17.0    2022.0        7.0     17.0  \n",
       "22453                  2.0    2022.0        6.0      2.0  \n",
       "22454                 14.0    2022.0        9.0     27.0  "
      ]
     },
     "execution_count": 2,
     "metadata": {},
     "output_type": "execute_result"
    }
   ],
   "source": [
    "eruptions_data = pd.read_csv(\"eruptions_data.csv\", index_col=\"Eruption Number\")\n",
    "\n",
    "eruptions_data.head()"
   ]
  },
  {
   "cell_type": "markdown",
   "id": "c163957b-46f6-4339-8078-1805d4b78600",
   "metadata": {
    "deletable": false,
    "editable": false,
    "nbgrader": {
     "cell_type": "markdown",
     "checksum": "a1aea1973414b6a1092c6a39fe4b808a",
     "grade": false,
     "grade_id": "cell-a370a3f8277883da",
     "locked": true,
     "schema_version": 3,
     "solution": false,
     "task": false
    },
    "tags": []
   },
   "source": [
    "### Zadanie 2: Przegląd danych - wybrane elementy [5 pkt]"
   ]
  },
  {
   "cell_type": "markdown",
   "id": "a894dac6-724c-4a05-addb-799be54a38bc",
   "metadata": {
    "deletable": false,
    "editable": false,
    "nbgrader": {
     "cell_type": "markdown",
     "checksum": "3d9404a4ba41180b7228d229700f6753",
     "grade": false,
     "grade_id": "cell-492b128cffc896e0",
     "locked": true,
     "schema_version": 3,
     "solution": false,
     "task": false
    },
    "tags": []
   },
   "source": [
    "#### a) Największe erupcje\n",
    "Przygotuj i wyświetl tablicę `big_eruptions_data` zawierającą tylko i wyłącznie wiersze tablicy `eruptions_data` dotyczące erupcji, którym została przyporządkowana wartość VEI równa 7."
   ]
  },
  {
   "cell_type": "code",
   "execution_count": 3,
   "id": "a7594c74-c087-427b-a28f-75dbc6c15b10",
   "metadata": {
    "deletable": false,
    "nbgrader": {
     "cell_type": "code",
     "checksum": "ebed1283ceea2a3af52c491bf75750e2",
     "grade": false,
     "grade_id": "cell-ae4385a252fa931d",
     "locked": false,
     "schema_version": 3,
     "solution": true,
     "task": false
    },
    "tags": []
   },
   "outputs": [
    {
     "data": {
      "text/html": [
       "<div>\n",
       "<style scoped>\n",
       "    .dataframe tbody tr th:only-of-type {\n",
       "        vertical-align: middle;\n",
       "    }\n",
       "\n",
       "    .dataframe tbody tr th {\n",
       "        vertical-align: top;\n",
       "    }\n",
       "\n",
       "    .dataframe thead th {\n",
       "        text-align: right;\n",
       "    }\n",
       "</style>\n",
       "<table border=\"1\" class=\"dataframe\">\n",
       "  <thead>\n",
       "    <tr style=\"text-align: right;\">\n",
       "      <th></th>\n",
       "      <th>Volcano Name</th>\n",
       "      <th>Eruption Category</th>\n",
       "      <th>Evidence Type</th>\n",
       "      <th>Evidence Method</th>\n",
       "      <th>VEI</th>\n",
       "      <th>Start Year</th>\n",
       "      <th>Start Month</th>\n",
       "      <th>Start Day</th>\n",
       "      <th>End Year</th>\n",
       "      <th>End Month</th>\n",
       "      <th>End Day</th>\n",
       "    </tr>\n",
       "    <tr>\n",
       "      <th>Eruption Number</th>\n",
       "      <th></th>\n",
       "      <th></th>\n",
       "      <th></th>\n",
       "      <th></th>\n",
       "      <th></th>\n",
       "      <th></th>\n",
       "      <th></th>\n",
       "      <th></th>\n",
       "      <th></th>\n",
       "      <th></th>\n",
       "      <th></th>\n",
       "    </tr>\n",
       "  </thead>\n",
       "  <tbody>\n",
       "    <tr>\n",
       "      <th>16231</th>\n",
       "      <td>Tambora</td>\n",
       "      <td>Confirmed</td>\n",
       "      <td>Observations</td>\n",
       "      <td>Reported</td>\n",
       "      <td>7</td>\n",
       "      <td>1812</td>\n",
       "      <td>NaN</td>\n",
       "      <td>NaN</td>\n",
       "      <td>1815.0</td>\n",
       "      <td>7.0</td>\n",
       "      <td>15.0</td>\n",
       "    </tr>\n",
       "    <tr>\n",
       "      <th>20843</th>\n",
       "      <td>Rinjani</td>\n",
       "      <td>Confirmed</td>\n",
       "      <td>Sidereal</td>\n",
       "      <td>Ice Core</td>\n",
       "      <td>7</td>\n",
       "      <td>1257</td>\n",
       "      <td>7.0</td>\n",
       "      <td>1.0</td>\n",
       "      <td>NaN</td>\n",
       "      <td>NaN</td>\n",
       "      <td>NaN</td>\n",
       "    </tr>\n",
       "    <tr>\n",
       "      <th>13879</th>\n",
       "      <td>Santorini</td>\n",
       "      <td>Confirmed</td>\n",
       "      <td>Isotopic</td>\n",
       "      <td>14C (calibrated)</td>\n",
       "      <td>7</td>\n",
       "      <td>-1610</td>\n",
       "      <td>NaN</td>\n",
       "      <td>NaN</td>\n",
       "      <td>NaN</td>\n",
       "      <td>NaN</td>\n",
       "      <td>NaN</td>\n",
       "    </tr>\n",
       "    <tr>\n",
       "      <th>20904</th>\n",
       "      <td>Blanco, Cerro</td>\n",
       "      <td>Confirmed</td>\n",
       "      <td>Isotopic</td>\n",
       "      <td>14C (calibrated)</td>\n",
       "      <td>7</td>\n",
       "      <td>-2300</td>\n",
       "      <td>NaN</td>\n",
       "      <td>NaN</td>\n",
       "      <td>NaN</td>\n",
       "      <td>NaN</td>\n",
       "      <td>NaN</td>\n",
       "    </tr>\n",
       "    <tr>\n",
       "      <th>16980</th>\n",
       "      <td>Kikai</td>\n",
       "      <td>Confirmed</td>\n",
       "      <td>Isotopic</td>\n",
       "      <td>14C (uncalibrated)</td>\n",
       "      <td>7</td>\n",
       "      <td>-4350</td>\n",
       "      <td>NaN</td>\n",
       "      <td>NaN</td>\n",
       "      <td>NaN</td>\n",
       "      <td>NaN</td>\n",
       "      <td>NaN</td>\n",
       "    </tr>\n",
       "  </tbody>\n",
       "</table>\n",
       "</div>"
      ],
      "text/plain": [
       "                  Volcano Name Eruption Category Evidence Type  \\\n",
       "Eruption Number                                                  \n",
       "16231                  Tambora         Confirmed  Observations   \n",
       "20843                  Rinjani         Confirmed      Sidereal   \n",
       "13879                Santorini         Confirmed      Isotopic   \n",
       "20904            Blanco, Cerro         Confirmed      Isotopic   \n",
       "16980                    Kikai         Confirmed      Isotopic   \n",
       "\n",
       "                    Evidence Method  VEI  Start Year  Start Month  Start Day  \\\n",
       "Eruption Number                                                                \n",
       "16231                      Reported    7        1812          NaN        NaN   \n",
       "20843                      Ice Core    7        1257          7.0        1.0   \n",
       "13879              14C (calibrated)    7       -1610          NaN        NaN   \n",
       "20904              14C (calibrated)    7       -2300          NaN        NaN   \n",
       "16980            14C (uncalibrated)    7       -4350          NaN        NaN   \n",
       "\n",
       "                 End Year  End Month  End Day  \n",
       "Eruption Number                                \n",
       "16231              1815.0        7.0     15.0  \n",
       "20843                 NaN        NaN      NaN  \n",
       "13879                 NaN        NaN      NaN  \n",
       "20904                 NaN        NaN      NaN  \n",
       "16980                 NaN        NaN      NaN  "
      ]
     },
     "execution_count": 3,
     "metadata": {},
     "output_type": "execute_result"
    }
   ],
   "source": [
    "big_eruptions_data = eruptions_data[eruptions_data[\"VEI\"] == 7]\n",
    "big_eruptions_data.head()\n"
   ]
  },
  {
   "cell_type": "code",
   "execution_count": 4,
   "id": "0400e36d-33ae-4673-96fa-7f1b21958dfe",
   "metadata": {
    "deletable": false,
    "editable": false,
    "nbgrader": {
     "cell_type": "code",
     "checksum": "64a5454e4bb87f6dae4fa67c300911d2",
     "grade": true,
     "grade_id": "cell-93d159a92fa925b4",
     "locked": true,
     "points": 1,
     "schema_version": 3,
     "solution": false,
     "task": false
    },
    "tags": []
   },
   "outputs": [],
   "source": [
    "### Komórka testowa\n",
    "assert set(big_eruptions_data['Volcano Name'].index) == set([16231, 20843, 13879, 20904, 16980, 20610, 18903])\n",
    "assert set(big_eruptions_data['Volcano Name'].values) == set(['Tambora', 'Rinjani', 'Santorini', 'Blanco, Cerro', 'Kikai', 'Crater Lake', 'Kurile Lake'])"
   ]
  },
  {
   "cell_type": "markdown",
   "id": "49e2d4df-440d-468c-89cf-cc035185f62f",
   "metadata": {
    "deletable": false,
    "editable": false,
    "nbgrader": {
     "cell_type": "markdown",
     "checksum": "2187ab4024e61aaf3ccff6b9c26e1bc0",
     "grade": false,
     "grade_id": "cell-781f250705073040",
     "locked": true,
     "schema_version": 3,
     "solution": false,
     "task": false
    },
    "tags": []
   },
   "source": [
    "#### b) Najaktywniejsze wulkany\n",
    "Przygotuj tablicę `most_active_data` zawierającą następujące elementy:\n",
    "\n",
    "Indeks:\n",
    "- domyślny\n",
    "\n",
    "Kolumny:\n",
    "- Volcano - nazwy wulkanów\n",
    "- Recorded eruptions - liczba zarejestrowanych erupcji\n",
    "\n",
    "Dane w tablicy powinny być posortowane od największej do najmniejszej liczby zarejestrowanych erupcji, a w przypadku takiej samej liczby erupcji alfabetycznie po nazwach wulkanów.\n",
    "\n",
    "Wyświetl 10 pierwszych wierszy przygotowanej tablicy."
   ]
  },
  {
   "cell_type": "code",
   "execution_count": 29,
   "id": "8e628811-93fe-454c-af2e-e32602652de9",
   "metadata": {
    "deletable": false,
    "nbgrader": {
     "cell_type": "code",
     "checksum": "b190ab92e852e2fafb88a6c51cb7d00f",
     "grade": false,
     "grade_id": "cell-6822b057abf5c287",
     "locked": false,
     "schema_version": 3,
     "solution": true,
     "task": false
    },
    "tags": []
   },
   "outputs": [],
   "source": [
    "recorded_eruptions = eruptions_data[\"Volcano Name\"].value_counts()\n",
    "most_active_data = pd.DataFrame({\n",
    "    \"Volcano\":  recorded_eruptions.index,\n",
    "    \"Recorded eruptions\": list(recorded_eruptions)\n",
    "})\n"
   ]
  },
  {
   "cell_type": "code",
   "execution_count": 30,
   "id": "759f4484-6228-44b2-8cef-f3538499b12d",
   "metadata": {
    "deletable": false,
    "editable": false,
    "nbgrader": {
     "cell_type": "code",
     "checksum": "0503adb3144bfa668e5d52b69605a4da",
     "grade": true,
     "grade_id": "cell-7de8c79d77dbc9db",
     "locked": true,
     "points": 2,
     "schema_version": 3,
     "solution": false,
     "task": false
    },
    "tags": []
   },
   "outputs": [],
   "source": [
    "### Komórka testowa\n",
    "assert list(most_active_data.loc[:9, \"Volcano\"]) == ['Fournaise, Piton de la', 'Asosan', 'Villarrica', 'Asamayama', 'Etna',\n",
    "                                                         'Mauna Loa', 'Klyuchevskoy','Sheveluch', 'Gamalama', 'Merapi']\n",
    "assert list(most_active_data.loc[:9, \"Recorded eruptions\"]) == [191, 180, 152, 128, 121, 110, 104, 102,  81,  81]"
   ]
  },
  {
   "cell_type": "markdown",
   "id": "6e7c3ac7-9410-4619-b463-935f924b2071",
   "metadata": {
    "deletable": false,
    "editable": false,
    "nbgrader": {
     "cell_type": "markdown",
     "checksum": "0537242b782fa435f6fe55114cc825b0",
     "grade": false,
     "grade_id": "cell-e636484a240b2879",
     "locked": true,
     "schema_version": 3,
     "solution": false,
     "task": false
    },
    "tags": []
   },
   "source": [
    "#### c) Ostatnie erupcje o określonej wielkości\n",
    "Przygotuj zmienną `last_eruption_data` zawierającą tablicę zawierającą następujące elementy:\n",
    "\n",
    "Indeks:\n",
    "- VEI - wartości VEI posortowane od najmniejszej do największej.\n",
    "\n",
    "Kolumny:\n",
    "- Last recorded eruption - lata, w których ostatni raz zarejestrowano erupcję o określonej wartości VEI (na podstawie daty początku erupcji).\n",
    "\n",
    "Wyświetl tablicę."
   ]
  },
  {
   "cell_type": "code",
   "execution_count": 138,
   "id": "e9acb879-33a8-45b7-a673-bef5ae025d54",
   "metadata": {
    "deletable": false,
    "nbgrader": {
     "cell_type": "code",
     "checksum": "7f34b106e03dd001b62c0959fa3e4d23",
     "grade": false,
     "grade_id": "cell-f26a7582febc53a6",
     "locked": false,
     "schema_version": 3,
     "solution": true,
     "task": false
    },
    "tags": []
   },
   "outputs": [
    {
     "data": {
      "text/html": [
       "<div>\n",
       "<style scoped>\n",
       "    .dataframe tbody tr th:only-of-type {\n",
       "        vertical-align: middle;\n",
       "    }\n",
       "\n",
       "    .dataframe tbody tr th {\n",
       "        vertical-align: top;\n",
       "    }\n",
       "\n",
       "    .dataframe thead th {\n",
       "        text-align: right;\n",
       "    }\n",
       "</style>\n",
       "<table border=\"1\" class=\"dataframe\">\n",
       "  <thead>\n",
       "    <tr style=\"text-align: right;\">\n",
       "      <th></th>\n",
       "      <th>VEI</th>\n",
       "      <th>Last recorded eruption</th>\n",
       "    </tr>\n",
       "    <tr>\n",
       "      <th>VEI</th>\n",
       "      <th></th>\n",
       "      <th></th>\n",
       "    </tr>\n",
       "  </thead>\n",
       "  <tbody>\n",
       "    <tr>\n",
       "      <th>0</th>\n",
       "      <td>0</td>\n",
       "      <td>2021</td>\n",
       "    </tr>\n",
       "    <tr>\n",
       "      <th>1</th>\n",
       "      <td>1</td>\n",
       "      <td>2022</td>\n",
       "    </tr>\n",
       "    <tr>\n",
       "      <th>2</th>\n",
       "      <td>2</td>\n",
       "      <td>2022</td>\n",
       "    </tr>\n",
       "    <tr>\n",
       "      <th>3</th>\n",
       "      <td>3</td>\n",
       "      <td>2021</td>\n",
       "    </tr>\n",
       "    <tr>\n",
       "      <th>4</th>\n",
       "      <td>4</td>\n",
       "      <td>2021</td>\n",
       "    </tr>\n",
       "    <tr>\n",
       "      <th>5</th>\n",
       "      <td>5</td>\n",
       "      <td>2021</td>\n",
       "    </tr>\n",
       "    <tr>\n",
       "      <th>6</th>\n",
       "      <td>6</td>\n",
       "      <td>1991</td>\n",
       "    </tr>\n",
       "    <tr>\n",
       "      <th>7</th>\n",
       "      <td>7</td>\n",
       "      <td>1812</td>\n",
       "    </tr>\n",
       "  </tbody>\n",
       "</table>\n",
       "</div>"
      ],
      "text/plain": [
       "     VEI  Last recorded eruption\n",
       "VEI                             \n",
       "0      0                    2021\n",
       "1      1                    2022\n",
       "2      2                    2022\n",
       "3      3                    2021\n",
       "4      4                    2021\n",
       "5      5                    2021\n",
       "6      6                    1991\n",
       "7      7                    1812"
      ]
     },
     "execution_count": 138,
     "metadata": {},
     "output_type": "execute_result"
    }
   ],
   "source": [
    "temp = eruptions_data[[\"VEI\", \"Start Year\"]]\n",
    "temp.set_index(\"VEI\", inplace=True)\n",
    "last_eruption_year = list(temp.groupby(\"VEI\").max()[\"Start Year\"])\n",
    "\n",
    "last_eruption_data = pd.DataFrame({\n",
    "    \"VEI\": range(0, 8),\n",
    "    \"Last recorded eruption\": list(temp.groupby(\"VEI\").max()[\"Start Year\"])\n",
    "})\n",
    "last_eruption_data.index.name = \"VEI\"\n",
    "last_eruption_data\n"
   ]
  },
  {
   "cell_type": "code",
   "execution_count": 139,
   "id": "cf0ba603-f8ac-425a-a2d7-a340dcd5d1ea",
   "metadata": {
    "deletable": false,
    "editable": false,
    "nbgrader": {
     "cell_type": "code",
     "checksum": "a585736034d3d988fd785a2d12e6937b",
     "grade": true,
     "grade_id": "cell-d6641c86a43e0ab5",
     "locked": true,
     "points": 2,
     "schema_version": 3,
     "solution": false,
     "task": false
    },
    "tags": []
   },
   "outputs": [],
   "source": [
    "### Komórka testowa\n",
    "assert (last_eruption_data.index.name == 'VEI') == True\n",
    "assert list(last_eruption_data['Last recorded eruption'].index) == [0, 1, 2, 3, 4, 5, 6, 7]\n",
    "assert list(last_eruption_data['Last recorded eruption'].values) == [2021, 2022, 2022, 2021, 2021, 2021, 1991, 1812]"
   ]
  },
  {
   "cell_type": "markdown",
   "id": "4fe49a2f-9894-4d23-a69f-2a0ff96569b9",
   "metadata": {
    "deletable": false,
    "editable": false,
    "nbgrader": {
     "cell_type": "markdown",
     "checksum": "bec2106ebe88abd5385346e73b04b6de",
     "grade": false,
     "grade_id": "cell-482f00a43192f793",
     "locked": true,
     "schema_version": 3,
     "solution": false,
     "task": false
    },
    "tags": []
   },
   "source": [
    "### Zadanie 3: Konstrukcja szeregów rodzielczych [10 pkt]"
   ]
  },
  {
   "cell_type": "markdown",
   "id": "e9080333-e7dc-48fe-a214-c95756301996",
   "metadata": {
    "deletable": false,
    "editable": false,
    "nbgrader": {
     "cell_type": "markdown",
     "checksum": "3530e8dad7b77500f12cacd65116eaac",
     "grade": false,
     "grade_id": "cell-df7e7e832751b528",
     "locked": true,
     "schema_version": 3,
     "solution": false,
     "task": false
    },
    "tags": []
   },
   "source": [
    "#### a) Forma tabelaryczna\n",
    "Przygotuj szeregi rozdzielcze VEI w formie tablic zawierających następujące elementy:\n",
    "\n",
    "Indeks:\n",
    "- VEI - wartości VEI posortowane od najmniejszej do największej.\n",
    "\n",
    "Kolumny:\n",
    "- f - zliczenia poszczególnych kategorii (ang. frequency, absolute frequency),\n",
    "- cf - zliczenia skumulowane poszczególnych kategorii (ang. cumulative frequency, cumulative absolute frequency),\n",
    "- rf - częstość zliczeń poszczególnych kategorii (ang. relative frequency),\n",
    "- crf - skumulowana częstość zliczeń poszczególnych kategorii (ang. cumulative relative frequency).\n",
    "\n",
    "Przygotuj osobne tablice dla wszystkich erupcji (`vei_data_1`), erupcji potwierdzonych (`vei_data_2`) i erupcji niepotwierdzonych (`vei_data_3`).\n",
    "\n",
    "Wyświetl przygotowane tablice."
   ]
  },
  {
   "cell_type": "code",
   "execution_count": null,
   "id": "cc1f71ef-62c1-4fbe-9ad3-ef018e3ee22e",
   "metadata": {
    "deletable": false,
    "nbgrader": {
     "cell_type": "code",
     "checksum": "97862d4e448bbfa8388b9e6e1ffd4ed6",
     "grade": false,
     "grade_id": "cell-10bd4bdf7a80603c",
     "locked": false,
     "schema_version": 3,
     "solution": true,
     "task": false
    },
    "tags": []
   },
   "outputs": [],
   "source": [
    "# Wszystkie erupcje\n",
    "# YOUR CODE HERE\n",
    "raise NotImplementedError()"
   ]
  },
  {
   "cell_type": "code",
   "execution_count": null,
   "id": "ccb06dea-5fc7-41b5-8d8b-9d2a49fb508d",
   "metadata": {
    "deletable": false,
    "nbgrader": {
     "cell_type": "code",
     "checksum": "370eb94bfdcb678a9161ef144d9e7256",
     "grade": false,
     "grade_id": "cell-bbe66d65d1b300ca",
     "locked": false,
     "schema_version": 3,
     "solution": true,
     "task": false
    },
    "tags": []
   },
   "outputs": [],
   "source": [
    "# Potwierdzone erupcje\n",
    "# YOUR CODE HERE\n",
    "raise NotImplementedError()"
   ]
  },
  {
   "cell_type": "code",
   "execution_count": null,
   "id": "874f3736-2c15-4894-9ff8-dcfa626d38af",
   "metadata": {
    "deletable": false,
    "nbgrader": {
     "cell_type": "code",
     "checksum": "29590b44a12e7e0a18014eebe572dc6c",
     "grade": false,
     "grade_id": "cell-0d54ec5c8d49d655",
     "locked": false,
     "schema_version": 3,
     "solution": true,
     "task": false
    },
    "tags": []
   },
   "outputs": [],
   "source": [
    "# Niepotwierdzone erupcje\n",
    "# YOUR CODE HERE\n",
    "raise NotImplementedError()"
   ]
  },
  {
   "cell_type": "code",
   "execution_count": null,
   "id": "c548946a-a7ad-4c86-9263-002b14e32767",
   "metadata": {
    "deletable": false,
    "editable": false,
    "nbgrader": {
     "cell_type": "code",
     "checksum": "e36bf2d83dcc931fdd7a36f9bf9bf136",
     "grade": true,
     "grade_id": "cell-37f309620c903da9",
     "locked": true,
     "points": 5,
     "schema_version": 3,
     "solution": false,
     "task": false
    },
    "tags": []
   },
   "outputs": [],
   "source": [
    "### Komórka testowa\n",
    "# Test 1: Wszystkie erupcje\n",
    "assert (vei_data_1.index.name == 'VEI') == True\n",
    "assert len(set(list(vei_data_1.columns)) & set(['f', 'cf', 'rf', 'crf'])) == 4\n",
    "assert list(vei_data_1['f'].index) == [0, 1, 2, 3, 4, 5, 6, 7]\n",
    "assert list(vei_data_1['f'].values) == [1007, 1384, 3991, 1152, 511, 180, 53, 7]\n",
    "# Test 2: Tylko potwierdzone erupcje\n",
    "assert (vei_data_2.index.name == 'VEI') == True\n",
    "assert len(set(list(vei_data_2.columns)) & set(['f', 'cf', 'rf', 'crf'])) == 4\n",
    "assert list(vei_data_2['f'].index) == [0, 1, 2, 3, 4, 5, 6, 7]\n",
    "assert list(vei_data_2['f'].values) == [803, 1227, 3727, 1133, 510, 180, 53, 7]\n",
    "# Test 3: Tylko niepotwierdzone erupcje\n",
    "assert (vei_data_3.index.name == 'VEI') == True\n",
    "assert len(set(list(vei_data_3.columns)) & set(['f', 'cf', 'rf', 'crf'])) == 4\n",
    "assert list(vei_data_3['f'].index) == [0, 1, 2, 3, 4]\n",
    "assert list(vei_data_3['f'].values) == [204, 157, 264, 19, 1]"
   ]
  },
  {
   "cell_type": "markdown",
   "id": "7532fe1a-76c1-4fbf-8986-11339132667e",
   "metadata": {
    "deletable": false,
    "editable": false,
    "nbgrader": {
     "cell_type": "markdown",
     "checksum": "c2777f2da7dc3e2d5beecb131694c40d",
     "grade": false,
     "grade_id": "cell-1d60b063399b4076",
     "locked": true,
     "schema_version": 3,
     "solution": false,
     "task": false
    },
    "tags": []
   },
   "source": [
    "#### b) Forma graficzna\n",
    "Zwizualizuj dane z przygotowanych tablic za pomocą wykresów słupkowych zliczeń (lewa oś wykresu) z nałożonymi na nie łamanymi częstości skumulowanej (prawa oś wykresu). Zestaw wykresy na pojedynczej figurze (siatka wykresów 1x3). Przygotuj figurę zgodnie z wytycznymi z nagłówka notatnika. Dodatkowo ustaw:\n",
    "- identyczne zakresy wartości na odpowiadających sobie osiach wszystkich trzech wykresów,\n",
    "- różne od domyślnych i od siebie nawzajem kolory wykresu słupkowego oraz łamanej częstości,\n",
    "- kolory lewej i prawej osi oraz ich opisów identyczne z kolorem elementu wykresu, którego dotyczą."
   ]
  },
  {
   "cell_type": "code",
   "execution_count": null,
   "id": "4ef136d3-a7c7-4830-96df-f210dff6b1b3",
   "metadata": {
    "deletable": false,
    "nbgrader": {
     "cell_type": "code",
     "checksum": "5a0c2fd2f6d7c92526e82b2046f0ec3c",
     "grade": true,
     "grade_id": "cell-4291e1fff2828e80",
     "locked": false,
     "points": 5,
     "schema_version": 3,
     "solution": true,
     "task": false
    },
    "tags": []
   },
   "outputs": [],
   "source": [
    "# YOUR CODE HERE\n",
    "raise NotImplementedError()"
   ]
  }
 ],
 "metadata": {
  "kernelspec": {
   "display_name": "venv",
   "language": "python",
   "name": "python3"
  },
  "language_info": {
   "codemirror_mode": {
    "name": "ipython",
    "version": 3
   },
   "file_extension": ".py",
   "mimetype": "text/x-python",
   "name": "python",
   "nbconvert_exporter": "python",
   "pygments_lexer": "ipython3",
   "version": "3.10.2"
  },
  "vscode": {
   "interpreter": {
    "hash": "7a2d82af9b5a60dc7f5a9f18628a6b0cb4fc53ac3a6ff3af3523ffaeb503eaf5"
   }
  }
 },
 "nbformat": 4,
 "nbformat_minor": 5
}
