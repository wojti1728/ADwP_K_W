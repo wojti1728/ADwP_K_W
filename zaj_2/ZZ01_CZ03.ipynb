{
 "cells": [
  {
   "cell_type": "markdown",
   "id": "62d0025e",
   "metadata": {
    "deletable": false,
    "editable": false,
    "nbgrader": {
     "cell_type": "markdown",
     "checksum": "4d87ed846e09cbf1c8eae4e0f16bea9b",
     "grade": false,
     "grade_id": "cell-fcd2666579131b77",
     "locked": true,
     "schema_version": 3,
     "solution": false,
     "task": false
    },
    "tags": []
   },
   "source": [
    "# Analiza danych w języku Python - ćwiczenia laboratoryjne 2022/2023\n",
    "\n",
    "Ten notatnik zalicza się do grupy zestawów zadań, na podstawie których odbywa się zaliczenie ćwiczeń i podlega zwrotowi do oceny w ustalonym na zajęciach terminie.\n",
    "\n",
    "Uwagi i wytyczne ogólne dotyczące uzupełniania i oceny notatnika:\n",
    "- Podczas wykonywania zadań należy korzystać wyłącznie z pakietów zaimportowanych na początku notatnika oraz z pakietów wchodzących w skład standardowej biblioteki Pythona, które można zaimportować samodzielnie we wskazanej komórce notatnika.\n",
    "- Swoje rozwiązania należy wprowadzać wyłącznie w miejce następujących fragmentów kodu:<br/> `# YOUR CODE HERE`<br/> `raise NotImplementedError()`<br/> \n",
    "a odpowiedzi tekstowe w komórkach oznaczonych hasłem:<br/> \n",
    "`YOUR ANSWER HERE`<br/> \n",
    "Nie należy w żaden sposób modyfikować pozostałych fragmentów kodu oraz innych elementów notatnika, w szczególności dodawać lub usuwać komórek oraz zmieniać nazwy pliku.\n",
    "- Jeżeli zestaw zadań wymaga skorzystania z fragmentów kodu opracowanego w ramach wcześniejszych zestawów zadań należy je umieścić we wskazanej komórce notatnika.\n",
    "- Otrzymywane wyniki i odpowiedzi mają być rezultatem wykonania napisanego kodu, odpowiedzi uzupełniane manualnie nie podlegają ocenie.\n",
    "- Zadanie należy wykonać w taki sposób, aby podczas wykonywania kodu nie zostały wyświetlone żadne ostrzeżenia.\n",
    "- Zawarte w notatniku automatyczne testy mają charakter poglądowy. Dotyczą one wybranych aspektów zadań i mają za zadanie wyłapać podstawowe błędy. Przejście wszystkich testów nie oznacza, że zadanie jest wykonane w całości poprawnie i zostanie ocenione na maksymalną liczbę punktów.\n",
    "- Zadania, które powodują wyświetlenie komunikatu o błędzie przerywającym wykonywanie kodu nie podlegają ocenie.\n",
    "\n",
    "Uwagi i wytyczne ogólne dotyczące wizualizacji wyników:\n",
    "- Wszystkie wykresy powinny być wykonane w jednolitym, przejrzystym i czytelnym stylu, posiadać odpowiednio dobrane proporcje i zakresy wartości osi.\n",
    "- Wykresy oraz ich osie powinny mieć nadane tytuły. Jeżeli w obrębie figury znajduje się więcej niż jeden wykres to figura również powinna mieć nadany tytuł. \n",
    "- Figury powinny mieć ustawione białe tło, tak, aby niezależnie od ustawień notatnika wszystkie elementy wykresów były dobrze widoczne (domyślnie tło jest przeźroczyste co może powodować problemy w notatnikach z ustawionym ciemnym tłem).\n",
    "- Rozmiar poziomy figur nie powinien przekraczać 20 cali.\n",
    "\n",
    "Przed odesłaniem zestawu zadań do oceny proszę uzupełnić komórkę z danymi autorów rozwiązania (`NAME` - nazwa zespołu, `COLLABORATORS` - imiona, nazwiska i numery indeksów członków zespołu) oraz upewnić się, że notatnik działa zgodnie z oczekiwaniami. W tym celu należy skorzystać z opcji **Restart Kernel and Run All Cells...** dostępnej na górnej belce notatnika pod symbolem $\\blacktriangleright\\blacktriangleright$."
   ]
  },
  {
   "cell_type": "code",
   "execution_count": null,
   "id": "b9506567",
   "metadata": {},
   "outputs": [],
   "source": [
    "NAME = \"\"\n",
    "COLLABORATORS = \"\""
   ]
  },
  {
   "cell_type": "markdown",
   "id": "2921a33e",
   "metadata": {
    "deletable": false,
    "editable": false,
    "nbgrader": {
     "cell_type": "markdown",
     "checksum": "eddc8826810e4a6f7bf68319da334bd9",
     "grade": false,
     "grade_id": "cell-109006d425e5cf83",
     "locked": true,
     "schema_version": 3,
     "solution": false,
     "task": false
    },
    "tags": []
   },
   "source": [
    "---"
   ]
  },
  {
   "cell_type": "markdown",
   "id": "3dc8b5f1-8b22-4781-876f-27826679533d",
   "metadata": {
    "deletable": false,
    "editable": false,
    "nbgrader": {
     "cell_type": "markdown",
     "checksum": "3a9bb0e23f4b56c120f0115427eea2cd",
     "grade": false,
     "grade_id": "cell-a12f05a1065ccf65",
     "locked": true,
     "schema_version": 3,
     "solution": false,
     "task": false
    },
    "tags": []
   },
   "source": [
    "## Zestaw zadań 1: Elementy statystyki opisowej 1 (Notatnik 3/4)"
   ]
  },
  {
   "cell_type": "code",
   "execution_count": 1,
   "id": "7f9968ab-aec5-4893-b0ad-34121d66004f",
   "metadata": {
    "deletable": false,
    "editable": false,
    "nbgrader": {
     "cell_type": "code",
     "checksum": "6a1e029ad976005b8bbf36e1fca0fca7",
     "grade": false,
     "grade_id": "cell-d7c9c710c5b409e6",
     "locked": true,
     "schema_version": 3,
     "solution": false,
     "task": false
    },
    "tags": []
   },
   "outputs": [],
   "source": [
    "import numpy as np\n",
    "import pandas as pd\n",
    "import scipy as sp\n",
    "import matplotlib as mpl\n",
    "import matplotlib.pyplot as plt\n",
    "import seaborn as sns\n",
    "import dataframe_image as dfi"
   ]
  },
  {
   "cell_type": "code",
   "execution_count": null,
   "id": "2876bbec-f433-4b3e-8187-0184b66bcbe9",
   "metadata": {},
   "outputs": [],
   "source": [
    "# Miejsce do importu pakietów wchodzących w skład standardowej biblioteki Pythona oraz ustawienie opcji wykorzystywanych pakietów"
   ]
  },
  {
   "cell_type": "markdown",
   "id": "73cb2852-79f3-4f76-9303-a091a9be7623",
   "metadata": {
    "deletable": false,
    "editable": false,
    "nbgrader": {
     "cell_type": "markdown",
     "checksum": "e3b1642d2bd4ea0e5378e476eeedcc84",
     "grade": false,
     "grade_id": "cell-7e0c91af7d9408af",
     "locked": true,
     "schema_version": 3,
     "solution": false,
     "task": false
    },
    "tags": []
   },
   "source": [
    "### Wczytanie danych\n",
    "Wczytaj dane z przygotowanego wcześniej pliku dane.csv do tablicy `eruptions_data` w taki sposób, aby kolumna Eruption Number stanowiła indeks tablicy.\n",
    "\n",
    "Wyświetl przygotowaną tablicę."
   ]
  },
  {
   "cell_type": "code",
   "execution_count": 3,
   "id": "bb86cffa-4841-45db-b09e-06fb353a4250",
   "metadata": {
    "deletable": false,
    "nbgrader": {
     "cell_type": "code",
     "checksum": "68bec47ead37b0063f7536f252c32c14",
     "grade": true,
     "grade_id": "cell-184ec13f50fb3bfe",
     "locked": false,
     "points": 0,
     "schema_version": 3,
     "solution": true,
     "task": false
    },
    "tags": []
   },
   "outputs": [
    {
     "data": {
      "text/html": [
       "<div>\n",
       "<style scoped>\n",
       "    .dataframe tbody tr th:only-of-type {\n",
       "        vertical-align: middle;\n",
       "    }\n",
       "\n",
       "    .dataframe tbody tr th {\n",
       "        vertical-align: top;\n",
       "    }\n",
       "\n",
       "    .dataframe thead th {\n",
       "        text-align: right;\n",
       "    }\n",
       "</style>\n",
       "<table border=\"1\" class=\"dataframe\">\n",
       "  <thead>\n",
       "    <tr style=\"text-align: right;\">\n",
       "      <th></th>\n",
       "      <th>Volcano Name</th>\n",
       "      <th>Eruption Category</th>\n",
       "      <th>Evidence Type</th>\n",
       "      <th>Evidence Method</th>\n",
       "      <th>VEI</th>\n",
       "      <th>Start Year</th>\n",
       "      <th>Start Month</th>\n",
       "      <th>Start Day</th>\n",
       "      <th>End Year</th>\n",
       "      <th>End Month</th>\n",
       "      <th>End Day</th>\n",
       "    </tr>\n",
       "    <tr>\n",
       "      <th>Eruption Number</th>\n",
       "      <th></th>\n",
       "      <th></th>\n",
       "      <th></th>\n",
       "      <th></th>\n",
       "      <th></th>\n",
       "      <th></th>\n",
       "      <th></th>\n",
       "      <th></th>\n",
       "      <th></th>\n",
       "      <th></th>\n",
       "      <th></th>\n",
       "    </tr>\n",
       "  </thead>\n",
       "  <tbody>\n",
       "    <tr>\n",
       "      <th>22486</th>\n",
       "      <td>Cotopaxi</td>\n",
       "      <td>Confirmed</td>\n",
       "      <td>Observations</td>\n",
       "      <td>Reported</td>\n",
       "      <td>2</td>\n",
       "      <td>2022</td>\n",
       "      <td>10.0</td>\n",
       "      <td>21.0</td>\n",
       "      <td>2022.0</td>\n",
       "      <td>12.0</td>\n",
       "      <td>19.0</td>\n",
       "    </tr>\n",
       "    <tr>\n",
       "      <th>22481</th>\n",
       "      <td>Taal</td>\n",
       "      <td>Confirmed</td>\n",
       "      <td>Observations</td>\n",
       "      <td>Reported</td>\n",
       "      <td>1</td>\n",
       "      <td>2022</td>\n",
       "      <td>10.0</td>\n",
       "      <td>5.0</td>\n",
       "      <td>2022.0</td>\n",
       "      <td>10.0</td>\n",
       "      <td>29.0</td>\n",
       "    </tr>\n",
       "    <tr>\n",
       "      <th>22458</th>\n",
       "      <td>Turrialba</td>\n",
       "      <td>Confirmed</td>\n",
       "      <td>Observations</td>\n",
       "      <td>Reported</td>\n",
       "      <td>1</td>\n",
       "      <td>2022</td>\n",
       "      <td>7.0</td>\n",
       "      <td>17.0</td>\n",
       "      <td>2022.0</td>\n",
       "      <td>7.0</td>\n",
       "      <td>17.0</td>\n",
       "    </tr>\n",
       "    <tr>\n",
       "      <th>22453</th>\n",
       "      <td>Ulawun</td>\n",
       "      <td>Confirmed</td>\n",
       "      <td>Observations</td>\n",
       "      <td>Reported</td>\n",
       "      <td>2</td>\n",
       "      <td>2022</td>\n",
       "      <td>6.0</td>\n",
       "      <td>2.0</td>\n",
       "      <td>2022.0</td>\n",
       "      <td>6.0</td>\n",
       "      <td>2.0</td>\n",
       "    </tr>\n",
       "    <tr>\n",
       "      <th>22454</th>\n",
       "      <td>Raung</td>\n",
       "      <td>Confirmed</td>\n",
       "      <td>Observations</td>\n",
       "      <td>Satellite (infrared)</td>\n",
       "      <td>2</td>\n",
       "      <td>2022</td>\n",
       "      <td>5.0</td>\n",
       "      <td>14.0</td>\n",
       "      <td>2022.0</td>\n",
       "      <td>9.0</td>\n",
       "      <td>27.0</td>\n",
       "    </tr>\n",
       "  </tbody>\n",
       "</table>\n",
       "</div>"
      ],
      "text/plain": [
       "                Volcano Name Eruption Category Evidence Type  \\\n",
       "Eruption Number                                                \n",
       "22486               Cotopaxi         Confirmed  Observations   \n",
       "22481                   Taal         Confirmed  Observations   \n",
       "22458              Turrialba         Confirmed  Observations   \n",
       "22453                 Ulawun         Confirmed  Observations   \n",
       "22454                  Raung         Confirmed  Observations   \n",
       "\n",
       "                      Evidence Method  VEI  Start Year  Start Month  \\\n",
       "Eruption Number                                                       \n",
       "22486                        Reported    2        2022         10.0   \n",
       "22481                        Reported    1        2022         10.0   \n",
       "22458                        Reported    1        2022          7.0   \n",
       "22453                        Reported    2        2022          6.0   \n",
       "22454            Satellite (infrared)    2        2022          5.0   \n",
       "\n",
       "                 Start Day  End Year  End Month  End Day  \n",
       "Eruption Number                                           \n",
       "22486                 21.0    2022.0       12.0     19.0  \n",
       "22481                  5.0    2022.0       10.0     29.0  \n",
       "22458                 17.0    2022.0        7.0     17.0  \n",
       "22453                  2.0    2022.0        6.0      2.0  \n",
       "22454                 14.0    2022.0        9.0     27.0  "
      ]
     },
     "execution_count": 3,
     "metadata": {},
     "output_type": "execute_result"
    }
   ],
   "source": [
    "eruptions_data = pd.read_csv(\"eruptions_data.csv\", index_col=\"Eruption Number\")\n",
    "\n",
    "eruptions_data.head()"
   ]
  },
  {
   "cell_type": "markdown",
   "id": "4fe49a2f-9894-4d23-a69f-2a0ff96569b9",
   "metadata": {
    "deletable": false,
    "editable": false,
    "nbgrader": {
     "cell_type": "markdown",
     "checksum": "e62e944b05a0ec03b8938fa1e75fa013",
     "grade": false,
     "grade_id": "cell-482f00a43192f793",
     "locked": true,
     "schema_version": 3,
     "solution": false,
     "task": false
    },
    "tags": []
   },
   "source": [
    "### Zadanie 4: Konstrukcja szeregów rodzielczych - bardziej skomplikowane tablice [10 pkt]"
   ]
  },
  {
   "cell_type": "markdown",
   "id": "e9080333-e7dc-48fe-a214-c95756301996",
   "metadata": {
    "deletable": false,
    "editable": false,
    "nbgrader": {
     "cell_type": "markdown",
     "checksum": "4c468ae1e86a18d9db3054da26a236c2",
     "grade": false,
     "grade_id": "cell-df7e7e832751b528",
     "locked": true,
     "schema_version": 3,
     "solution": false,
     "task": false
    },
    "tags": []
   },
   "source": [
    "#### a) Forma tabelaryczna\n",
    "Przygotuj szeregi rozdzielcze VEI w formie tablicy `vei_data` zawierającej następujące elementy:\n",
    "\n",
    "Indeks:\n",
    "- VEI - wartości VEI posortowane od najmniejszej do największej.\n",
    "\n",
    "Kolumny: </br>\n",
    "- Nagłówki 1 poziomu:\n",
    "    - Eruption category - All, Confirmed Eruption, Uncertain Eruption\n",
    "- Nagłówki 2 poziomu (dla każdego z nagłówków 1 poziomu ten sam zestaw kolumn):\n",
    "    - f - zliczenia poszczególnych kategorii (ang. frequency, absolute frequency),\n",
    "    - cf - zliczenia skumulowane poszczególnych kategorii (ang. cumulative frequency, cumulative absolute frequency),\n",
    "    - rf - częstość zliczeń poszczególnych kategorii (ang. relative frequency),\n",
    "    - crf - skumulowana częstość zliczeń poszczególnych kategorii (ang. cumulative relative frequency).\n",
    "\n",
    "Wyświetl przygotowane tablicę w taki sposób, aby liczby w kolumnach f i cf oraz indeks tablicy VEI wyświetlały się bez miejsc po przecinku, a liczby z kolumn rf i crf z dokładnością do 4 miejsca po przecinku."
   ]
  },
  {
   "cell_type": "code",
   "execution_count": 5,
   "id": "cc1f71ef-62c1-4fbe-9ad3-ef018e3ee22e",
   "metadata": {
    "deletable": false,
    "nbgrader": {
     "cell_type": "code",
     "checksum": "78d6079a4b5e4fc3cc597cf29d0c3dfe",
     "grade": false,
     "grade_id": "cell-10bd4bdf7a80603c",
     "locked": false,
     "schema_version": 3,
     "solution": true,
     "task": false
    },
    "tags": []
   },
   "outputs": [
    {
     "ename": "TypeError",
     "evalue": "Index(...) must be called with a collection of some kind, 'VEI' was passed",
     "output_type": "error",
     "traceback": [
      "\u001b[1;31m---------------------------------------------------------------------------\u001b[0m",
      "\u001b[1;31mTypeError\u001b[0m                                 Traceback (most recent call last)",
      "Cell \u001b[1;32mIn[5], line 10\u001b[0m\n\u001b[0;32m      7\u001b[0m data_confirmed \u001b[39m=\u001b[39m data[data[\u001b[39m\"\u001b[39m\u001b[39mEruption Category\u001b[39m\u001b[39m\"\u001b[39m] \u001b[39m==\u001b[39m \u001b[39m\"\u001b[39m\u001b[39mConfirmed\u001b[39m\u001b[39m\"\u001b[39m]\n\u001b[0;32m      8\u001b[0m data_unconfirmed \u001b[39m=\u001b[39m data[data[\u001b[39m\"\u001b[39m\u001b[39mEruption Category\u001b[39m\u001b[39m\"\u001b[39m] \u001b[39m==\u001b[39m \u001b[39m\"\u001b[39m\u001b[39mUncertain\u001b[39m\u001b[39m\"\u001b[39m]\n\u001b[1;32m---> 10\u001b[0m vei_data \u001b[39m=\u001b[39m pd\u001b[39m.\u001b[39;49mDataFrame({\n\u001b[0;32m     11\u001b[0m     \u001b[39m\"\u001b[39;49m\u001b[39mVEI\u001b[39;49m\u001b[39m\"\u001b[39;49m: \u001b[39mrange\u001b[39;49m(\u001b[39m0\u001b[39;49m, \u001b[39m8\u001b[39;49m),\n\u001b[0;32m     12\u001b[0m     \u001b[39m\"\u001b[39;49m\u001b[39mf\u001b[39;49m\u001b[39m\"\u001b[39;49m: data\u001b[39m.\u001b[39;49mgroupby(\u001b[39m\"\u001b[39;49m\u001b[39mVEI\u001b[39;49m\u001b[39m\"\u001b[39;49m)[\u001b[39m\"\u001b[39;49m\u001b[39mVolcano Name\u001b[39;49m\u001b[39m\"\u001b[39;49m]\u001b[39m.\u001b[39;49mcount(), \u001b[39m# zliczanie poszczrgolnych kategorii\u001b[39;49;00m\n\u001b[0;32m     13\u001b[0m     \u001b[39m\"\u001b[39;49m\u001b[39mcf\u001b[39;49m\u001b[39m\"\u001b[39;49m: np\u001b[39m.\u001b[39;49mcumsum(data\u001b[39m.\u001b[39;49mgroupby(\u001b[39m\"\u001b[39;49m\u001b[39mVEI\u001b[39;49m\u001b[39m\"\u001b[39;49m)[\u001b[39m\"\u001b[39;49m\u001b[39mVolcano Name\u001b[39;49m\u001b[39m\"\u001b[39;49m]\u001b[39m.\u001b[39;49mcount()), \u001b[39m# suma skumulowana\u001b[39;49;00m\n\u001b[0;32m     14\u001b[0m     \u001b[39m\"\u001b[39;49m\u001b[39mrf\u001b[39;49m\u001b[39m\"\u001b[39;49m: data\u001b[39m.\u001b[39;49mgroupby(\u001b[39m\"\u001b[39;49m\u001b[39mVEI\u001b[39;49m\u001b[39m\"\u001b[39;49m)[\u001b[39m\"\u001b[39;49m\u001b[39mVolcano Name\u001b[39;49m\u001b[39m\"\u001b[39;49m]\u001b[39m.\u001b[39;49mcount() \u001b[39m/\u001b[39;49m \u001b[39mlen\u001b[39;49m(data[\u001b[39m\"\u001b[39;49m\u001b[39mVEI\u001b[39;49m\u001b[39m\"\u001b[39;49m]), \u001b[39m# częstość zliczeń poszczególnych kategorii \u001b[39;49;00m\n\u001b[0;32m     15\u001b[0m     \u001b[39m\"\u001b[39;49m\u001b[39mcrf\u001b[39;49m\u001b[39m\"\u001b[39;49m: np\u001b[39m.\u001b[39;49mcumsum(data\u001b[39m.\u001b[39;49mgroupby(\u001b[39m\"\u001b[39;49m\u001b[39mVEI\u001b[39;49m\u001b[39m\"\u001b[39;49m)[\u001b[39m\"\u001b[39;49m\u001b[39mVolcano Name\u001b[39;49m\u001b[39m\"\u001b[39;49m]\u001b[39m.\u001b[39;49mcount()) \u001b[39m/\u001b[39;49m \u001b[39mlen\u001b[39;49m(data), \u001b[39m#skumulowana częstość zliczeń poszczególnych kategorii\u001b[39;49;00m\n\u001b[0;32m     16\u001b[0m     \n\u001b[0;32m     17\u001b[0m     \u001b[39m\"\u001b[39;49m\u001b[39mf\u001b[39;49m\u001b[39m\"\u001b[39;49m: data_confirmed\u001b[39m.\u001b[39;49mgroupby(\u001b[39m\"\u001b[39;49m\u001b[39mVEI\u001b[39;49m\u001b[39m\"\u001b[39;49m)[\u001b[39m\"\u001b[39;49m\u001b[39mVolcano Name\u001b[39;49m\u001b[39m\"\u001b[39;49m]\u001b[39m.\u001b[39;49mcount(), \u001b[39m# zliczanie poszczrgolnych kategorii\u001b[39;49;00m\n\u001b[0;32m     18\u001b[0m     \u001b[39m\"\u001b[39;49m\u001b[39mcf\u001b[39;49m\u001b[39m\"\u001b[39;49m: np\u001b[39m.\u001b[39;49mcumsum(data_confirmed\u001b[39m.\u001b[39;49mgroupby(\u001b[39m\"\u001b[39;49m\u001b[39mVEI\u001b[39;49m\u001b[39m\"\u001b[39;49m)[\u001b[39m\"\u001b[39;49m\u001b[39mVolcano Name\u001b[39;49m\u001b[39m\"\u001b[39;49m]\u001b[39m.\u001b[39;49mcount()), \u001b[39m# suma skumulowana\u001b[39;49;00m\n\u001b[0;32m     19\u001b[0m     \u001b[39m\"\u001b[39;49m\u001b[39mrf\u001b[39;49m\u001b[39m\"\u001b[39;49m: data_confirmed\u001b[39m.\u001b[39;49mgroupby(\u001b[39m\"\u001b[39;49m\u001b[39mVEI\u001b[39;49m\u001b[39m\"\u001b[39;49m)[\u001b[39m\"\u001b[39;49m\u001b[39mVolcano Name\u001b[39;49m\u001b[39m\"\u001b[39;49m]\u001b[39m.\u001b[39;49mcount() \u001b[39m/\u001b[39;49m \u001b[39mlen\u001b[39;49m(data_confirmed), \u001b[39m# częstość zliczeń poszczególnych kategorii \u001b[39;49;00m\n\u001b[0;32m     20\u001b[0m     \u001b[39m\"\u001b[39;49m\u001b[39mcrf\u001b[39;49m\u001b[39m\"\u001b[39;49m: np\u001b[39m.\u001b[39;49mcumsum(data_confirmed\u001b[39m.\u001b[39;49mgroupby(\u001b[39m\"\u001b[39;49m\u001b[39mVEI\u001b[39;49m\u001b[39m\"\u001b[39;49m)[\u001b[39m\"\u001b[39;49m\u001b[39mVolcano Name\u001b[39;49m\u001b[39m\"\u001b[39;49m]\u001b[39m.\u001b[39;49mcount()) \u001b[39m/\u001b[39;49m \u001b[39mlen\u001b[39;49m(data_confirmed) ,\u001b[39m#skumulowana częstość zliczeń poszczególnych kategorii\u001b[39;49;00m\n\u001b[0;32m     21\u001b[0m \n\u001b[0;32m     22\u001b[0m     \u001b[39m\"\u001b[39;49m\u001b[39mf\u001b[39;49m\u001b[39m\"\u001b[39;49m: data_unconfirmed\u001b[39m.\u001b[39;49mgroupby(\u001b[39m\"\u001b[39;49m\u001b[39mVEI\u001b[39;49m\u001b[39m\"\u001b[39;49m)[\u001b[39m\"\u001b[39;49m\u001b[39mVolcano Name\u001b[39;49m\u001b[39m\"\u001b[39;49m]\u001b[39m.\u001b[39;49mcount(), \u001b[39m# zliczanie poszczrgolnych kategorii\u001b[39;49;00m\n\u001b[0;32m     23\u001b[0m     \u001b[39m\"\u001b[39;49m\u001b[39mcf\u001b[39;49m\u001b[39m\"\u001b[39;49m: np\u001b[39m.\u001b[39;49mcumsum(data_unconfirmed\u001b[39m.\u001b[39;49mgroupby(\u001b[39m\"\u001b[39;49m\u001b[39mVEI\u001b[39;49m\u001b[39m\"\u001b[39;49m)[\u001b[39m\"\u001b[39;49m\u001b[39mVolcano Name\u001b[39;49m\u001b[39m\"\u001b[39;49m]\u001b[39m.\u001b[39;49mcount()), \u001b[39m# suma skumulowana\u001b[39;49;00m\n\u001b[0;32m     24\u001b[0m     \u001b[39m\"\u001b[39;49m\u001b[39mrf\u001b[39;49m\u001b[39m\"\u001b[39;49m: data_unconfirmed\u001b[39m.\u001b[39;49mgroupby(\u001b[39m\"\u001b[39;49m\u001b[39mVEI\u001b[39;49m\u001b[39m\"\u001b[39;49m)[\u001b[39m\"\u001b[39;49m\u001b[39mVolcano Name\u001b[39;49m\u001b[39m\"\u001b[39;49m]\u001b[39m.\u001b[39;49mcount() \u001b[39m/\u001b[39;49m \u001b[39mlen\u001b[39;49m(data_unconfirmed), \u001b[39m# częstość zliczeń poszczególnych kategorii \u001b[39;49;00m\n\u001b[0;32m     25\u001b[0m     \u001b[39m\"\u001b[39;49m\u001b[39mcrf\u001b[39;49m\u001b[39m\"\u001b[39;49m: np\u001b[39m.\u001b[39;49mcumsum(data_unconfirmed\u001b[39m.\u001b[39;49mgroupby(\u001b[39m\"\u001b[39;49m\u001b[39mVEI\u001b[39;49m\u001b[39m\"\u001b[39;49m)[\u001b[39m\"\u001b[39;49m\u001b[39mVolcano Name\u001b[39;49m\u001b[39m\"\u001b[39;49m]\u001b[39m.\u001b[39;49mcount()) \u001b[39m/\u001b[39;49m \u001b[39mlen\u001b[39;49m(data_unconfirmed)\n\u001b[0;32m     26\u001b[0m },\n\u001b[0;32m     27\u001b[0m                   index\u001b[39m=\u001b[39;49m\u001b[39m\"\u001b[39;49m\u001b[39mVEI\u001b[39;49m\u001b[39m\"\u001b[39;49m,\n\u001b[0;32m     28\u001b[0m                   columns\u001b[39m=\u001b[39;49mheader)\n",
      "File \u001b[1;32mc:\\Users\\Kacper\\Desktop\\sem_VI\\analiza_danych_python\\venv\\lib\\site-packages\\pandas\\core\\frame.py:664\u001b[0m, in \u001b[0;36mDataFrame.__init__\u001b[1;34m(self, data, index, columns, dtype, copy)\u001b[0m\n\u001b[0;32m    658\u001b[0m     mgr \u001b[39m=\u001b[39m \u001b[39mself\u001b[39m\u001b[39m.\u001b[39m_init_mgr(\n\u001b[0;32m    659\u001b[0m         data, axes\u001b[39m=\u001b[39m{\u001b[39m\"\u001b[39m\u001b[39mindex\u001b[39m\u001b[39m\"\u001b[39m: index, \u001b[39m\"\u001b[39m\u001b[39mcolumns\u001b[39m\u001b[39m\"\u001b[39m: columns}, dtype\u001b[39m=\u001b[39mdtype, copy\u001b[39m=\u001b[39mcopy\n\u001b[0;32m    660\u001b[0m     )\n\u001b[0;32m    662\u001b[0m \u001b[39melif\u001b[39;00m \u001b[39misinstance\u001b[39m(data, \u001b[39mdict\u001b[39m):\n\u001b[0;32m    663\u001b[0m     \u001b[39m# GH#38939 de facto copy defaults to False only in non-dict cases\u001b[39;00m\n\u001b[1;32m--> 664\u001b[0m     mgr \u001b[39m=\u001b[39m dict_to_mgr(data, index, columns, dtype\u001b[39m=\u001b[39;49mdtype, copy\u001b[39m=\u001b[39;49mcopy, typ\u001b[39m=\u001b[39;49mmanager)\n\u001b[0;32m    665\u001b[0m \u001b[39melif\u001b[39;00m \u001b[39misinstance\u001b[39m(data, ma\u001b[39m.\u001b[39mMaskedArray):\n\u001b[0;32m    666\u001b[0m     \u001b[39mimport\u001b[39;00m \u001b[39mnumpy\u001b[39;00m\u001b[39m.\u001b[39;00m\u001b[39mma\u001b[39;00m\u001b[39m.\u001b[39;00m\u001b[39mmrecords\u001b[39;00m \u001b[39mas\u001b[39;00m \u001b[39mmrecords\u001b[39;00m\n",
      "File \u001b[1;32mc:\\Users\\Kacper\\Desktop\\sem_VI\\analiza_danych_python\\venv\\lib\\site-packages\\pandas\\core\\internals\\construction.py:450\u001b[0m, in \u001b[0;36mdict_to_mgr\u001b[1;34m(data, index, columns, dtype, typ, copy)\u001b[0m\n\u001b[0;32m    448\u001b[0m     index \u001b[39m=\u001b[39m _extract_index(arrays[\u001b[39m~\u001b[39mmissing])\n\u001b[0;32m    449\u001b[0m \u001b[39melse\u001b[39;00m:\n\u001b[1;32m--> 450\u001b[0m     index \u001b[39m=\u001b[39m ensure_index(index)\n\u001b[0;32m    452\u001b[0m \u001b[39m# no obvious \"empty\" int column\u001b[39;00m\n\u001b[0;32m    453\u001b[0m \u001b[39mif\u001b[39;00m missing\u001b[39m.\u001b[39many() \u001b[39mand\u001b[39;00m \u001b[39mnot\u001b[39;00m is_integer_dtype(dtype):\n",
      "File \u001b[1;32mc:\\Users\\Kacper\\Desktop\\sem_VI\\analiza_danych_python\\venv\\lib\\site-packages\\pandas\\core\\indexes\\base.py:7333\u001b[0m, in \u001b[0;36mensure_index\u001b[1;34m(index_like, copy)\u001b[0m\n\u001b[0;32m   7331\u001b[0m         \u001b[39mreturn\u001b[39;00m Index\u001b[39m.\u001b[39m_with_infer(index_like, copy\u001b[39m=\u001b[39mcopy, tupleize_cols\u001b[39m=\u001b[39m\u001b[39mFalse\u001b[39;00m)\n\u001b[0;32m   7332\u001b[0m \u001b[39melse\u001b[39;00m:\n\u001b[1;32m-> 7333\u001b[0m     \u001b[39mreturn\u001b[39;00m Index\u001b[39m.\u001b[39;49m_with_infer(index_like, copy\u001b[39m=\u001b[39;49mcopy)\n",
      "File \u001b[1;32mc:\\Users\\Kacper\\Desktop\\sem_VI\\analiza_danych_python\\venv\\lib\\site-packages\\pandas\\core\\indexes\\base.py:716\u001b[0m, in \u001b[0;36mIndex._with_infer\u001b[1;34m(cls, *args, **kwargs)\u001b[0m\n\u001b[0;32m    714\u001b[0m \u001b[39mwith\u001b[39;00m warnings\u001b[39m.\u001b[39mcatch_warnings():\n\u001b[0;32m    715\u001b[0m     warnings\u001b[39m.\u001b[39mfilterwarnings(\u001b[39m\"\u001b[39m\u001b[39mignore\u001b[39m\u001b[39m\"\u001b[39m, \u001b[39m\"\u001b[39m\u001b[39m.*the Index constructor\u001b[39m\u001b[39m\"\u001b[39m, \u001b[39mFutureWarning\u001b[39;00m)\n\u001b[1;32m--> 716\u001b[0m     result \u001b[39m=\u001b[39m \u001b[39mcls\u001b[39m(\u001b[39m*\u001b[39margs, \u001b[39m*\u001b[39m\u001b[39m*\u001b[39mkwargs)\n\u001b[0;32m    718\u001b[0m \u001b[39mif\u001b[39;00m result\u001b[39m.\u001b[39mdtype \u001b[39m==\u001b[39m _dtype_obj \u001b[39mand\u001b[39;00m \u001b[39mnot\u001b[39;00m result\u001b[39m.\u001b[39m_is_multi:\n\u001b[0;32m    719\u001b[0m     \u001b[39m# error: Argument 1 to \"maybe_convert_objects\" has incompatible type\u001b[39;00m\n\u001b[0;32m    720\u001b[0m     \u001b[39m# \"Union[ExtensionArray, ndarray[Any, Any]]\"; expected\u001b[39;00m\n\u001b[0;32m    721\u001b[0m     \u001b[39m# \"ndarray[Any, Any]\"\u001b[39;00m\n\u001b[0;32m    722\u001b[0m     values \u001b[39m=\u001b[39m lib\u001b[39m.\u001b[39mmaybe_convert_objects(result\u001b[39m.\u001b[39m_values)  \u001b[39m# type: ignore[arg-type]\u001b[39;00m\n",
      "File \u001b[1;32mc:\\Users\\Kacper\\Desktop\\sem_VI\\analiza_danych_python\\venv\\lib\\site-packages\\pandas\\core\\indexes\\base.py:545\u001b[0m, in \u001b[0;36mIndex.__new__\u001b[1;34m(cls, data, dtype, copy, name, tupleize_cols, **kwargs)\u001b[0m\n\u001b[0;32m    542\u001b[0m     \u001b[39mreturn\u001b[39;00m klass\u001b[39m.\u001b[39m_simple_new(arr, name)\n\u001b[0;32m    544\u001b[0m \u001b[39melif\u001b[39;00m is_scalar(data):\n\u001b[1;32m--> 545\u001b[0m     \u001b[39mraise\u001b[39;00m \u001b[39mcls\u001b[39m\u001b[39m.\u001b[39m_scalar_data_error(data)\n\u001b[0;32m    546\u001b[0m \u001b[39melif\u001b[39;00m \u001b[39mhasattr\u001b[39m(data, \u001b[39m\"\u001b[39m\u001b[39m__array__\u001b[39m\u001b[39m\"\u001b[39m):\n\u001b[0;32m    547\u001b[0m     \u001b[39mreturn\u001b[39;00m Index(np\u001b[39m.\u001b[39masarray(data), dtype\u001b[39m=\u001b[39mdtype, copy\u001b[39m=\u001b[39mcopy, name\u001b[39m=\u001b[39mname, \u001b[39m*\u001b[39m\u001b[39m*\u001b[39mkwargs)\n",
      "\u001b[1;31mTypeError\u001b[0m: Index(...) must be called with a collection of some kind, 'VEI' was passed"
     ]
    }
   ],
   "source": [
    "header = pd.MultiIndex.from_product([['All eruptions','Confirmed Eruptions', 'Uncertain Eruptions'],\n",
    "                                     ['f', 'cf', 'rf', 'crf']],\n",
    "                                    names=['loc','S']) # do każdej naglowka gornego dodaje wszystkie z nahlowka dolnego\n",
    "\n",
    "data = eruptions_data.copy()\n",
    "data_confirmed = data[data[\"Eruption Category\"] == \"Confirmed\"]\n",
    "data_confirmed = data[data[\"Eruption Category\"] == \"Confirmed\"]\n",
    "data_unconfirmed = data[data[\"Eruption Category\"] == \"Uncertain\"]\n",
    "\n",
    "vei_data = pd.DataFrame({\n",
    "    \"VEI\": range(0, 8),\n",
    "    \"f\": data.groupby(\"VEI\")[\"Volcano Name\"].count(), # zliczanie poszczrgolnych kategorii\n",
    "    \"cf\": np.cumsum(data.groupby(\"VEI\")[\"Volcano Name\"].count()), # suma skumulowana\n",
    "    \"rf\": data.groupby(\"VEI\")[\"Volcano Name\"].count() / len(data[\"VEI\"]), # częstość zliczeń poszczególnych kategorii \n",
    "    \"crf\": np.cumsum(data.groupby(\"VEI\")[\"Volcano Name\"].count()) / len(data), #skumulowana częstość zliczeń poszczególnych kategorii\n",
    "    \n",
    "    \"f\": data_confirmed.groupby(\"VEI\")[\"Volcano Name\"].count(), # zliczanie poszczrgolnych kategorii\n",
    "    \"cf\": np.cumsum(data_confirmed.groupby(\"VEI\")[\"Volcano Name\"].count()), # suma skumulowana\n",
    "    \"rf\": data_confirmed.groupby(\"VEI\")[\"Volcano Name\"].count() / len(data_confirmed), # częstość zliczeń poszczególnych kategorii \n",
    "    \"crf\": np.cumsum(data_confirmed.groupby(\"VEI\")[\"Volcano Name\"].count()) / len(data_confirmed) ,#skumulowana częstość zliczeń poszczególnych kategorii\n",
    "\n",
    "    \"f\": data_unconfirmed.groupby(\"VEI\")[\"Volcano Name\"].count(), # zliczanie poszczrgolnych kategorii\n",
    "    \"cf\": np.cumsum(data_unconfirmed.groupby(\"VEI\")[\"Volcano Name\"].count()), # suma skumulowana\n",
    "    \"rf\": data_unconfirmed.groupby(\"VEI\")[\"Volcano Name\"].count() / len(data_unconfirmed), # częstość zliczeń poszczególnych kategorii \n",
    "    \"crf\": np.cumsum(data_unconfirmed.groupby(\"VEI\")[\"Volcano Name\"].count()) / len(data_unconfirmed)\n",
    "    \n",
    "    # uzupelnij None\n",
    "},\n",
    "                  index=\"VEI\",\n",
    "                  columns=header)"
   ]
  },
  {
   "cell_type": "code",
   "execution_count": null,
   "id": "c548946a-a7ad-4c86-9263-002b14e32767",
   "metadata": {
    "deletable": false,
    "editable": false,
    "nbgrader": {
     "cell_type": "code",
     "checksum": "e9674b48641e9dfa3031f4f71b51d6ce",
     "grade": true,
     "grade_id": "cell-37f309620c903da9",
     "locked": true,
     "points": 5,
     "schema_version": 3,
     "solution": false,
     "task": false
    },
    "tags": []
   },
   "outputs": [],
   "source": [
    "## Komórka testowa\n",
    "# Test 1: Indeks\n",
    "assert (vei_data.index.name == 'VEI') == True\n",
    "assert list(vei_data.index) == [0, 1, 2, 3, 4, 5, 6, 7]\n",
    "# Test 2: Kolumny\n",
    "assert len(set(list(vei_data.columns.levels[0])) & set(['All eruptions', 'Confirmed Eruptions', 'Uncertain Eruptions'])) == 3\n",
    "assert set(list(vei_data.columns.levels[1])) == set(['f', 'cf', 'rf', 'crf'])\n",
    "# Test 3: Wartości w kolumnach f\n",
    "assert list(vei_data['All eruptions']['f'].values) == [1007, 1384, 3991, 1152, 511, 180, 53, 7]\n",
    "assert list(vei_data['Confirmed Eruptions']['f'].values) == [803, 1227, 3727, 1133, 510, 180, 53, 7]\n",
    "assert list(vei_data['Uncertain Eruptions']['f'].values[:5]) == [204, 157, 264, 19, 1] \n",
    "assert np.all(np.isnan(vei_data['Uncertain Eruptions']['f'].values[5:]))"
   ]
  },
  {
   "cell_type": "markdown",
   "id": "7532fe1a-76c1-4fbf-8986-11339132667e",
   "metadata": {
    "deletable": false,
    "editable": false,
    "nbgrader": {
     "cell_type": "markdown",
     "checksum": "dbd9edc3c07a1d20f444785674863831",
     "grade": false,
     "grade_id": "cell-1d60b063399b4076",
     "locked": true,
     "schema_version": 3,
     "solution": false,
     "task": false
    },
    "tags": []
   },
   "source": [
    "#### b) Forma graficzna\n",
    "Zwizualizuj dane z przygotowanych tablic za pomocą wykresów słupkowych zliczeń (lewa oś wykresu) z nałożonymi na nie łamanymi częstości skumulowanej (prawa oś wykresu). Zestaw wykresy na pojedynczej figurze (siatka wykresów 1x3). Przygotuj figurę zgodnie z wytycznymi z nagłówka notatnika. Dodatkowo ustaw:\n",
    "- identyczne zakresy wartości na odpowiadających sobie osiach wszystkich trzech wykresów,\n",
    "- różne od domyślnych i od siebie nawzajem kolory wykresu słupkowego oraz łamanej częstości,\n",
    "- kolory lewej i prawej osi oraz ich opisów identyczne z kolorem elementu wykresu, którego dotyczą,\n",
    "- format wyświetlania wartości VEI bez miejsc po przecinku."
   ]
  },
  {
   "cell_type": "code",
   "execution_count": null,
   "id": "4ef136d3-a7c7-4830-96df-f210dff6b1b3",
   "metadata": {
    "deletable": false,
    "nbgrader": {
     "cell_type": "code",
     "checksum": "5a0c2fd2f6d7c92526e82b2046f0ec3c",
     "grade": true,
     "grade_id": "cell-4291e1fff2828e80",
     "locked": false,
     "points": 5,
     "schema_version": 3,
     "solution": true,
     "task": false
    },
    "tags": []
   },
   "outputs": [],
   "source": [
    "# YOUR CODE HERE\n",
    "raise NotImplementedError()"
   ]
  },
  {
   "cell_type": "markdown",
   "id": "7bea9f77-bd9d-4d4e-9317-7cea9bfa420a",
   "metadata": {
    "deletable": false,
    "editable": false,
    "nbgrader": {
     "cell_type": "markdown",
     "checksum": "cd76e9e6953bfeca5c998fb7347f4da1",
     "grade": false,
     "grade_id": "cell-0441be7180503b87",
     "locked": true,
     "schema_version": 3,
     "solution": false,
     "task": false
    },
    "tags": []
   },
   "source": [
    "### Zadanie 5: Rodzaje metod wykrywania erupcji [10 pkt]\n",
    "\n",
    "Przygotuj tablice `evidence_data` zawiarającą informacje o tym ile erupcji o poszczególnych wartościach VEI zostało potwierdzonych przy użyciu poszczególnych metod weryfikacji.\n",
    "Tablica powinna zawierać następujące elementy:\n",
    "\n",
    "Indeks:\n",
    "- Nagłówki 1 poziomu\n",
    "    - kategoria dowodów\n",
    "- Nagłówki 2 poziomu:\n",
    "    - metoda, która dostarczyła dowodów\n",
    "\n",
    "Kolumny: </br>\n",
    "- VEI - wartości VEI posortowane od najmniejszej do największej oraz kolumna \"All\", w której znajdują się dane dotyczące wszystkich erupcji, bez podziału na VEI.\n",
    "\n",
    "Wyświetl przygotowane tablicę w taki sposób, aby zawarte w tablicy liczby (w tym wartości VEI w nagłówkach kolumn) wyświetlały się bez miejsc po przecinku."
   ]
  },
  {
   "cell_type": "code",
   "execution_count": null,
   "id": "416988da-0226-4b30-b5b0-e7614c25f1a5",
   "metadata": {
    "deletable": false,
    "nbgrader": {
     "cell_type": "code",
     "checksum": "49765b57195cef2d0800113a70000492",
     "grade": false,
     "grade_id": "cell-57304971296e4e92",
     "locked": false,
     "schema_version": 3,
     "solution": true,
     "task": false
    },
    "tags": []
   },
   "outputs": [],
   "source": [
    "# YOUR CODE HERE\n",
    "raise NotImplementedError()"
   ]
  },
  {
   "cell_type": "code",
   "execution_count": null,
   "id": "0996fabd-7d10-4237-bc8f-e8b4b01dbdd9",
   "metadata": {
    "deletable": false,
    "editable": false,
    "nbgrader": {
     "cell_type": "code",
     "checksum": "73f30e82434685a9c9b666a360910cb9",
     "grade": true,
     "grade_id": "cell-49e4af55295b70a6",
     "locked": true,
     "points": 10,
     "schema_version": 3,
     "solution": false,
     "task": false
    },
    "tags": []
   },
   "outputs": [],
   "source": [
    "# Test 1 Kształt tablicy\n",
    "assert evidence_data.shape == (22, 9)\n",
    "# # Test 2 Kolumny\n",
    "assert len(set(list(evidence_data.columns)) & set([0.0, 1.0, 2.0, 3.0, 4.0, 5.0, 6.0, 7.0, 'All'])) == 9\n",
    "# Test 3 Indeks\n",
    "assert (eruptions_data.index.name == 'Eruption Number') == True\n",
    "assert len(set(list(evidence_data.index)) & set([('Observations', 'Reported'), ('Observations', 'Satellite (infrared)'), ('Observations', 'Satellite (visual)'),\n",
    "                                ('Observations', 'Seismicity'), ('Observations', 'Hydrophonic'), ('Observations', 'Photo / Video'), ('Observations', 'Aviation'),\n",
    "                                ('Uncertain', 'Unspecified'), ('Isotopic', 'Uranium-series'), ('Isotopic', '14C (calibrated)'), ('Isotopic', '14C (uncalibrated)'),\n",
    "                                ('Isotopic', 'Cosmic Ray Exposure'), ('Isotopic', 'Ar/Ar'), ('Isotopic', 'K/Ar'), ('Correlation', 'Magnetism'), ('Correlation', 'Tephrochronology'),\n",
    "                                ('Correlation', 'Anthropology'), ('Sidereal', 'Varve Count'), ('Sidereal', 'Dendrochronology'), ('Sidereal', 'Ice Core'), ('Radiogenic', 'Fission track'),\n",
    "                                ('Radiogenic', 'Thermoluminescence')])) == 22\n",
    "# Test 4 Kilka losowo wybranych wartości w tablicy\n",
    "assert evidence_data.loc[('Observations', 'Reported'), 0] == 376\n",
    "assert evidence_data.loc[('Uncertain', 'Unspecified'), 3] == 22\n",
    "assert evidence_data.loc[('Sidereal', 'Ice Core'), 7] == 2\n",
    "assert evidence_data.loc[('Isotopic', '14C (uncalibrated)'), 5] == 41\n",
    "assert evidence_data.loc[('Correlation', 'Anthropology'), 6] == 0"
   ]
  },
  {
   "cell_type": "markdown",
   "id": "96eec0fa-5f8a-49f6-8721-9828c10d0da5",
   "metadata": {
    "deletable": false,
    "editable": false,
    "nbgrader": {
     "cell_type": "markdown",
     "checksum": "cdf4a46477faa1cc9eb15007c44b7a5f",
     "grade": false,
     "grade_id": "cell-49205cfa3f959d2a",
     "locked": true,
     "schema_version": 3,
     "solution": false,
     "task": false
    },
    "tags": []
   },
   "source": [
    "### Zadanie 6: Wizualizacja rozkładu zarejestrowanych erupcji w czasie [2 pkt]\n",
    "\n",
    "Korzystając z funkcji `seaborn.stripplot()` zwizualizuj jak rozkładały się w czasie wystąpienia zarejestrowanych erupcji. Do rozróżnienia erupcji w czasie wykorzystaj rok, w którym nastąpił ich początek.\n",
    "\n",
    "Wyniki zestaw na pojedynczej figurze (siatka wykresów 2x1). Na górnym wykresie przedstaw dane rozróżnione tylko po kątem VEI, a na dolnym wykresie przedstaw dane rozróżnione zarówno po VEI jak i rodzaju dowodu ich wystąpienia (Evidence Type). Przygotuj figurę zgodnie z wytycznymi z nagłówka notatnika. Dodatkowo:\n",
    "- dodaj legendę do dolnego wykresu w taki sposób, aby nie zasłaniała znajdujących nię na nim danych,\n",
    "- ustaw format wyświetlania wartości VEI bez miejsc po przecinku."
   ]
  },
  {
   "cell_type": "code",
   "execution_count": null,
   "id": "72ee0e77-2407-4d3c-b929-9306230edbbe",
   "metadata": {
    "deletable": false,
    "nbgrader": {
     "cell_type": "code",
     "checksum": "26a73022f362cb3ad3880e6ee9dd8d4e",
     "grade": true,
     "grade_id": "cell-02f74843f3b61c8d",
     "locked": false,
     "points": 2,
     "schema_version": 3,
     "solution": true,
     "task": false
    },
    "tags": []
   },
   "outputs": [],
   "source": [
    "# YOUR CODE HERE\n",
    "raise NotImplementedError()"
   ]
  }
 ],
 "metadata": {
  "kernelspec": {
   "display_name": "Python 3 (ipykernel)",
   "language": "python",
   "name": "python3"
  },
  "language_info": {
   "codemirror_mode": {
    "name": "ipython",
    "version": 3
   },
   "file_extension": ".py",
   "mimetype": "text/x-python",
   "name": "python",
   "nbconvert_exporter": "python",
   "pygments_lexer": "ipython3",
   "version": "3.10.2"
  }
 },
 "nbformat": 4,
 "nbformat_minor": 5
}
